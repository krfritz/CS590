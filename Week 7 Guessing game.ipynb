{
 "cells": [
  {
   "cell_type": "code",
   "execution_count": null,
   "metadata": {},
   "outputs": [],
   "source": [
    "x = 1:100\n",
    "sample(x, 1)"
   ]
  },
  {
   "cell_type": "code",
   "execution_count": null,
   "metadata": {},
   "outputs": [],
   "source": [
    "print(\"WELCOME TO GUESS ME!\")\n",
    "print(\"I'm thinking of a number between 1 and 100\")\n",
    "print(\"If your guess is more than 10 away from my number, I'll tell you you're COLD\")\n",
    "print(\"If your guess is within 10 of my number, I'll tell you you're WARM\")\n",
    "print(\"If your guess is farther than your most recent guess, I'll say you're getting COLDER\")\n",
    "print(\"If your guess is closer than your most recent guess, I'll say you're getting WARMER\")\n",
    "print(\"LET'S PLAY!\")"
   ]
  },
  {
   "cell_type": "code",
   "execution_count": null,
   "metadata": {},
   "outputs": [],
   "source": [
    "var= c(0)\n",
    "var"
   ]
  },
  {
   "cell_type": "code",
   "execution_count": null,
   "metadata": {},
   "outputs": [],
   "source": [
    "while (TRUE){\n",
    "    guess = as.integer(readline(prompt = \"Guess a number\" ))\n",
    "    \n",
    "    if(100< guess | guess<1){\n",
    "    message('Out of bounds!')\n",
    "    next \n",
    "    }\n",
    "    if(guess == x){\n",
    "    message(sprintf('Congratulations you guessed it in only %s guesses!', length(var)))\n",
    "    break\n",
    "    }\n",
    "}"
   ]
  },
  {
   "cell_type": "code",
   "execution_count": null,
   "metadata": {},
   "outputs": [],
   "source": [
    "var <- append(var, guess)\n",
    "    if (var[length(var) -1)]{\n",
    "        if ((abs(guess - x))> abs((guess-x)[length(var)-1])){\n",
    "         message('Colder!')\n",
    "        }else{\n",
    "        message('Warmer!')\n",
    "        }\n",
    "    }"
   ]
  },
  {
   "cell_type": "code",
   "execution_count": null,
   "metadata": {},
   "outputs": [],
   "source": [
    "else {\n",
    "        if(abs(guess - x) >= 10 ){\n",
    "        message('Cold!')\n",
    "        }else{\n",
    "        message('Warm!')\n",
    "        }\n",
    "    } "
   ]
  },
  {
   "cell_type": "code",
   "execution_count": null,
   "metadata": {},
   "outputs": [],
   "source": [
    "while(TRUE){ \n",
    "    guess = as.integer(readline(prompt=\"Guess a number between 1 and 100.\\n What is your guess? \"))\n",
    "    if (guess < 1 | guess > 100){\n",
    "        message(\"OUT OF BOUNDS. Please Try Again:\")\n",
    "        next\n",
    "    }\n",
    "    if (guess == num){\n",
    "        message(sprintf(\"Congratulations. You guessed the number in %s guesses!\",length(guesses)))\n",
    "        break\n",
    "    }\n",
    "    guesses <- append(guesses, guess)\n",
    "    if (guesses[length(guesses)-1]){\n",
    "        if (abs(num-guess) < abs(num-guesses[length(guesses)-1])){\n",
    "            message(\"Warmer!\")\n",
    "        }else{\n",
    "            message(\"Colder!\")\n",
    "        }\n",
    "    }\n",
    "    else{\n",
    "        if (abs(num-guess) <= 10){\n",
    "            message(\"Warm!\")\n",
    "        }else{\n",
    "            message(\"Cold!\")\n",
    "        }\n",
    "    }\n",
    "}"
   ]
  },
  {
   "cell_type": "code",
   "execution_count": 1,
   "metadata": {},
   "outputs": [
    {
     "name": "stdout",
     "output_type": "stream",
     "text": [
      "[1] \"WELCOME TO GUESS ME!\"\n",
      "[1] \"I'm thinking of a number between 1 and 100\"\n",
      "[1] \"If your guess is more than 10 away from my number, I'll tell you you're COLD\"\n",
      "[1] \"If your guess is within 10 of my number, I'll tell you you're WARM\"\n",
      "[1] \"If your guess is farther than your most recent guess, I'll say you're getting COLDER\"\n",
      "[1] \"If your guess is closer than your most recent guess, I'll say you're getting WARMER\"\n",
      "[1] \"LET'S PLAY!\"\n"
     ]
    },
    {
     "data": {
      "text/html": [
       "0"
      ],
      "text/latex": [
       "0"
      ],
      "text/markdown": [
       "0"
      ],
      "text/plain": [
       "[1] 0"
      ]
     },
     "metadata": {},
     "output_type": "display_data"
    },
    {
     "name": "stdout",
     "output_type": "stream",
     "text": [
      "Guess a number 101\n"
     ]
    },
    {
     "name": "stderr",
     "output_type": "stream",
     "text": [
      "Out of bounds!\n"
     ]
    },
    {
     "name": "stdout",
     "output_type": "stream",
     "text": [
      "Guess a number 0\n"
     ]
    },
    {
     "name": "stderr",
     "output_type": "stream",
     "text": [
      "Out of bounds!\n"
     ]
    },
    {
     "name": "stdout",
     "output_type": "stream",
     "text": [
      "Guess a number 52\n"
     ]
    },
    {
     "name": "stderr",
     "output_type": "stream",
     "text": [
      "Cold!\n"
     ]
    },
    {
     "name": "stdout",
     "output_type": "stream",
     "text": [
      "Guess a number 40\n"
     ]
    },
    {
     "name": "stderr",
     "output_type": "stream",
     "text": [
      "Colder!\n"
     ]
    },
    {
     "name": "stdout",
     "output_type": "stream",
     "text": [
      "Guess a number 70\n"
     ]
    },
    {
     "name": "stderr",
     "output_type": "stream",
     "text": [
      "Colder!\n"
     ]
    },
    {
     "name": "stdout",
     "output_type": "stream",
     "text": [
      "Guess a number 60\n"
     ]
    },
    {
     "name": "stderr",
     "output_type": "stream",
     "text": [
      "Colder!\n"
     ]
    },
    {
     "name": "stdout",
     "output_type": "stream",
     "text": [
      "Guess a number 45\n"
     ]
    },
    {
     "name": "stderr",
     "output_type": "stream",
     "text": [
      "Colder!\n"
     ]
    },
    {
     "name": "stdout",
     "output_type": "stream",
     "text": [
      "Guess a number 10\n"
     ]
    },
    {
     "name": "stderr",
     "output_type": "stream",
     "text": [
      "Warmer!\n"
     ]
    },
    {
     "name": "stdout",
     "output_type": "stream",
     "text": [
      "Guess a number 15\n"
     ]
    },
    {
     "name": "stderr",
     "output_type": "stream",
     "text": [
      "Warmer!\n"
     ]
    },
    {
     "name": "stdout",
     "output_type": "stream",
     "text": [
      "Guess a number 17\n"
     ]
    },
    {
     "name": "stderr",
     "output_type": "stream",
     "text": [
      "Colder!\n"
     ]
    },
    {
     "name": "stdout",
     "output_type": "stream",
     "text": [
      "Guess a number 13\n"
     ]
    },
    {
     "name": "stderr",
     "output_type": "stream",
     "text": [
      "Warmer!\n"
     ]
    },
    {
     "name": "stdout",
     "output_type": "stream",
     "text": [
      "Guess a number 12\n"
     ]
    },
    {
     "name": "stderr",
     "output_type": "stream",
     "text": [
      "Colder!\n"
     ]
    },
    {
     "name": "stdout",
     "output_type": "stream",
     "text": [
      "Guess a number 14\n"
     ]
    },
    {
     "name": "stderr",
     "output_type": "stream",
     "text": [
      "Congratulations you guessed it in only 11 guesses!\n"
     ]
    }
   ],
   "source": [
    "x = sample(1:100, 1)\n",
    "\n",
    "print(\"WELCOME TO GUESS ME!\")\n",
    "print(\"I'm thinking of a number between 1 and 100\")\n",
    "print(\"If your guess is more than 10 away from my number, I'll tell you you're COLD\")\n",
    "print(\"If your guess is within 10 of my number, I'll tell you you're WARM\")\n",
    "print(\"If your guess is farther than your most recent guess, I'll say you're getting COLDER\")\n",
    "print(\"If your guess is closer than your most recent guess, I'll say you're getting WARMER\")\n",
    "print(\"LET'S PLAY!\")\n",
    "\n",
    "var= c(0)\n",
    "var\n",
    "\n",
    "while (TRUE){\n",
    "    guess = as.integer(readline(prompt = \"Guess a number \" ))\n",
    "    if(100< guess | guess<1){\n",
    "        message('Out of bounds!')\n",
    "        next \n",
    "    }\n",
    "    if(guess == x){\n",
    "        message(sprintf('Congratulations you guessed it in only %s guesses!', length(var)))\n",
    "        break\n",
    "    }\n",
    "    var <- append(var, guess)\n",
    "    if (var[length(var)-1]){\n",
    "        if(abs(guess - x)> abs(guess-var[length(var)-1])){\n",
    "             message('Colder!')\n",
    "        }else{\n",
    "            message('Warmer!')\n",
    "        }\n",
    "    }\n",
    "    else {\n",
    "        if(abs(guess - x) >= 10 ){\n",
    "            message('Cold!')\n",
    "        }else{\n",
    "            message('Warm!')\n",
    "        }\n",
    "    } \n",
    "}"
   ]
  },
  {
   "cell_type": "code",
   "execution_count": null,
   "metadata": {},
   "outputs": [],
   "source": []
  }
 ],
 "metadata": {
  "kernelspec": {
   "display_name": "R",
   "language": "R",
   "name": "ir"
  },
  "language_info": {
   "codemirror_mode": "r",
   "file_extension": ".r",
   "mimetype": "text/x-r-source",
   "name": "R",
   "pygments_lexer": "r",
   "version": "3.6.1"
  }
 },
 "nbformat": 4,
 "nbformat_minor": 2
}
